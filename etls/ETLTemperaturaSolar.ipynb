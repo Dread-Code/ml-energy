{
 "cells": [
  {
   "cell_type": "code",
   "execution_count": 15,
   "id": "de600f43-2704-474a-b020-3c62c41cfe5f",
   "metadata": {},
   "outputs": [],
   "source": [
    "import pandas as pd\n",
    "from pydataxm import *\n",
    "import datetime as dt\n",
    "from sqlalchemy import create_engine\n",
    "from sqlalchemy.types import String, Integer, Date, Float  # Importar tipos necesarios\n",
    "import  os\n",
    "import psycopg2"
   ]
  },
  {
   "cell_type": "code",
   "execution_count": 16,
   "id": "8dc44915-f2ee-4f53-89e4-7312e1b73faf",
   "metadata": {},
   "outputs": [],
   "source": [
    "DATABASE_URL = os.getenv(\"DATABASE_URL\")\n",
    "engine = create_engine(DATABASE_URL)"
   ]
  },
  {
   "cell_type": "code",
   "execution_count": 17,
   "id": "01e6006d-33ac-453b-b932-96cb35b068cc",
   "metadata": {},
   "outputs": [],
   "source": [
    "#Definir periodo de los datos\n",
    "today = dt.date.today()\n",
    "month_ago = today - dt.timedelta(days=360) # Approximation of a month"
   ]
  },
  {
   "cell_type": "code",
   "execution_count": 18,
   "id": "bcdde073-b614-4650-9bdd-fcc69f86a265",
   "metadata": {},
   "outputs": [],
   "source": [
    "#Conexion a la API\n",
    "objetoAPI = pydataxm.ReadDB()"
   ]
  },
  {
   "cell_type": "markdown",
   "id": "fdb27b87-8e23-45fe-8010-105900e8d7f2",
   "metadata": {},
   "source": [
    "**TEMPERATURA SOLAR**"
   ]
  },
  {
   "cell_type": "code",
   "execution_count": 19,
   "id": "e4dc6a2b-8e27-49f7-8034-fe4dcb974f3c",
   "metadata": {},
   "outputs": [
    {
     "data": {
      "text/html": [
       "<div>\n",
       "<style scoped>\n",
       "    .dataframe tbody tr th:only-of-type {\n",
       "        vertical-align: middle;\n",
       "    }\n",
       "\n",
       "    .dataframe tbody tr th {\n",
       "        vertical-align: top;\n",
       "    }\n",
       "\n",
       "    .dataframe thead th {\n",
       "        text-align: right;\n",
       "    }\n",
       "</style>\n",
       "<table border=\"1\" class=\"dataframe\">\n",
       "  <thead>\n",
       "    <tr style=\"text-align: right;\">\n",
       "      <th></th>\n",
       "      <th>pkRecurso</th>\n",
       "      <th>Date</th>\n",
       "      <th>temperatura_solar</th>\n",
       "      <th>fecha_actualizacion</th>\n",
       "    </tr>\n",
       "  </thead>\n",
       "  <tbody>\n",
       "    <tr>\n",
       "      <th>0</th>\n",
       "      <td>2ZP9</td>\n",
       "      <td>2024-06-07</td>\n",
       "      <td>25.60926</td>\n",
       "      <td>2025-06-02</td>\n",
       "    </tr>\n",
       "    <tr>\n",
       "      <th>1</th>\n",
       "      <td>3ACC</td>\n",
       "      <td>2024-06-07</td>\n",
       "      <td>28.14450</td>\n",
       "      <td>2025-06-02</td>\n",
       "    </tr>\n",
       "    <tr>\n",
       "      <th>2</th>\n",
       "      <td>3B4L</td>\n",
       "      <td>2024-06-07</td>\n",
       "      <td>24.42759</td>\n",
       "      <td>2025-06-02</td>\n",
       "    </tr>\n",
       "    <tr>\n",
       "      <th>3</th>\n",
       "      <td>3EBN</td>\n",
       "      <td>2024-06-07</td>\n",
       "      <td>31.45000</td>\n",
       "      <td>2025-06-02</td>\n",
       "    </tr>\n",
       "    <tr>\n",
       "      <th>4</th>\n",
       "      <td>3EV1</td>\n",
       "      <td>2024-06-07</td>\n",
       "      <td>33.20000</td>\n",
       "      <td>2025-06-02</td>\n",
       "    </tr>\n",
       "  </tbody>\n",
       "</table>\n",
       "</div>"
      ],
      "text/plain": [
       "  pkRecurso       Date  temperatura_solar fecha_actualizacion\n",
       "0      2ZP9 2024-06-07           25.60926          2025-06-02\n",
       "1      3ACC 2024-06-07           28.14450          2025-06-02\n",
       "2      3B4L 2024-06-07           24.42759          2025-06-02\n",
       "3      3EBN 2024-06-07           31.45000          2025-06-02\n",
       "4      3EV1 2024-06-07           33.20000          2025-06-02"
      ]
     },
     "execution_count": 19,
     "metadata": {},
     "output_type": "execute_result"
    }
   ],
   "source": [
    "df_TemperaturaSolar = objetoAPI.request_data(\n",
    "                                                \"TempAmbSolar\",           #Se indica el nombre de la métrica tal como se llama en el campo metricId\n",
    "                                                \"Recurso\",               #Se indica el nombre de la entidad tal como se llama en el campo Entity\n",
    "                                                month_ago,     #Corresponde a la fecha inicial de la consulta\n",
    "                                                today)\n",
    "\n",
    "df_TemperaturaSolar['Temperatura_solar']= df_temperatura_solar['Value']\n",
    "#Renombrar\n",
    "df_TemperaturaSolar.rename(columns={'Value': 'temperatura_solar',\n",
    "                               'Code':'pkRecurso'\n",
    "                              }, inplace=True)\n",
    "\n",
    "df_TemperaturaSolar=df_TemperaturaSolar[['pkRecurso','Date','temperatura_solar']]\n",
    "\n",
    "df_TemperaturaSolar['fecha_actualizacion'] = today\n",
    "df_TemperaturaSolar.head()# Assume df_filtered is already defined from the preceding code\n",
    "\n"
   ]
  },
  {
   "cell_type": "code",
   "execution_count": 20,
   "id": "5d5ac2a3-3c80-496a-9551-10319e69091c",
   "metadata": {},
   "outputs": [
    {
     "name": "stdout",
     "output_type": "stream",
     "text": [
      "Datos insertados correctamente.\n"
     ]
    }
   ],
   "source": [
    "# Insertar datos en PostgreSQL (modo 'append' para no borrar datos existentes)\n",
    "with engine.begin() as conn:  # <- Se hace COMMIT automático al final\n",
    "    df_TemperaturaSolar.to_sql(\n",
    "    name='temperatura_solar',          # Nombre de la tabla (sin esquema aquí)\n",
    "    con=engine,\n",
    "    schema='tablasxm_dev',       # Esquema especificado aquí\n",
    "    if_exists='replace',          # Opción: 'append', 'replace' o 'fail'\n",
    "    index=True,                 # Incluir el índice del DataFrame\n",
    "    dtype={\n",
    "           'pkrecurso': String(),     \n",
    "           'date': Date(),\n",
    "           'temperatura_solar': Float(),              \n",
    "           'fecha_actualizacion': Date()\n",
    "    })\n",
    "\n",
    "\n",
    "\n",
    "print(\"Datos insertados correctamente.\")"
   ]
  },
  {
   "cell_type": "code",
   "execution_count": 21,
   "id": "4a870b0e-0ef4-4982-8825-83a3662b5c0f",
   "metadata": {},
   "outputs": [
    {
     "name": "stdout",
     "output_type": "stream",
     "text": [
      "8405\n"
     ]
    }
   ],
   "source": [
    "print(len(df_TemperaturaSolar))"
   ]
  }
 ],
 "metadata": {
  "kernelspec": {
   "display_name": "Python 3 (ipykernel)",
   "language": "python",
   "name": "python3"
  },
  "language_info": {
   "codemirror_mode": {
    "name": "ipython",
    "version": 3
   },
   "file_extension": ".py",
   "mimetype": "text/x-python",
   "name": "python",
   "nbconvert_exporter": "python",
   "pygments_lexer": "ipython3",
   "version": "3.12.10"
  }
 },
 "nbformat": 4,
 "nbformat_minor": 5
}
