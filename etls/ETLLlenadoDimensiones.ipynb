{
 "cells": [
  {
   "cell_type": "code",
   "execution_count": 17,
   "id": "de600f43-2704-474a-b020-3c62c41cfe5f",
   "metadata": {},
   "outputs": [],
   "source": [
    "import pandas as pd\n",
    "from pydataxm import *\n",
    "import datetime as dt\n",
    "from sqlalchemy import create_engine\n",
    "from sqlalchemy.types import String, Integer, Date, Float  # Importar tipos necesarios\n",
    "import  os\n",
    "import psycopg2"
   ]
  },
  {
   "cell_type": "code",
   "execution_count": 18,
   "id": "8dc44915-f2ee-4f53-89e4-7312e1b73faf",
   "metadata": {},
   "outputs": [],
   "source": [
    "DATABASE_URL = os.getenv(\"DATABASE_URL\")\n",
    "engine = create_engine(DATABASE_URL)"
   ]
  },
  {
   "cell_type": "code",
   "execution_count": 19,
   "id": "01e6006d-33ac-453b-b932-96cb35b068cc",
   "metadata": {},
   "outputs": [],
   "source": [
    "#Definir periodo de los datos\n",
    "today = dt.date.today()\n",
    "month_ago = today - dt.timedelta(days=360) # Approximation of a month"
   ]
  },
  {
   "cell_type": "code",
   "execution_count": 20,
   "id": "bcdde073-b614-4650-9bdd-fcc69f86a265",
   "metadata": {},
   "outputs": [],
   "source": [
    "#Conexion a la API\n",
    "objetoAPI = pydataxm.ReadDB()"
   ]
  },
  {
   "cell_type": "markdown",
   "id": "2bfebdca-4f9a-4206-9673-cbb8e241a359",
   "metadata": {},
   "source": [
    "**AGENTES**"
   ]
  },
  {
   "cell_type": "code",
   "execution_count": 21,
   "id": "7975ffcc-5e3f-429f-9544-49de8d78adfd",
   "metadata": {},
   "outputs": [
    {
     "data": {
      "text/html": [
       "<div>\n",
       "<style scoped>\n",
       "    .dataframe tbody tr th:only-of-type {\n",
       "        vertical-align: middle;\n",
       "    }\n",
       "\n",
       "    .dataframe tbody tr th {\n",
       "        vertical-align: top;\n",
       "    }\n",
       "\n",
       "    .dataframe thead th {\n",
       "        text-align: right;\n",
       "    }\n",
       "</style>\n",
       "<table border=\"1\" class=\"dataframe\">\n",
       "  <thead>\n",
       "    <tr style=\"text-align: right;\">\n",
       "      <th></th>\n",
       "      <th>pkAgente</th>\n",
       "      <th>Actividad</th>\n",
       "      <th>Estado</th>\n",
       "      <th>fecha_actualizacion</th>\n",
       "    </tr>\n",
       "  </thead>\n",
       "  <tbody>\n",
       "    <tr>\n",
       "      <th>0</th>\n",
       "      <td>ESNC</td>\n",
       "      <td>COMERCIALIZACIÓN</td>\n",
       "      <td>OPERACION</td>\n",
       "      <td>2025-06-02</td>\n",
       "    </tr>\n",
       "    <tr>\n",
       "      <th>1</th>\n",
       "      <td>SEJC</td>\n",
       "      <td>COMERCIALIZACIÓN</td>\n",
       "      <td>OPERACION</td>\n",
       "      <td>2025-06-02</td>\n",
       "    </tr>\n",
       "    <tr>\n",
       "      <th>2</th>\n",
       "      <td>OTAG</td>\n",
       "      <td>GENERACIÓN</td>\n",
       "      <td>OPERACION</td>\n",
       "      <td>2025-06-02</td>\n",
       "    </tr>\n",
       "    <tr>\n",
       "      <th>3</th>\n",
       "      <td>DUCG</td>\n",
       "      <td>GENERACIÓN</td>\n",
       "      <td>OPERACION</td>\n",
       "      <td>2025-06-02</td>\n",
       "    </tr>\n",
       "    <tr>\n",
       "      <th>4</th>\n",
       "      <td>ITLC</td>\n",
       "      <td>COMERCIALIZACIÓN</td>\n",
       "      <td>OPERACION</td>\n",
       "      <td>2025-06-02</td>\n",
       "    </tr>\n",
       "  </tbody>\n",
       "</table>\n",
       "</div>"
      ],
      "text/plain": [
       "  pkAgente         Actividad     Estado fecha_actualizacion\n",
       "0     ESNC  COMERCIALIZACIÓN  OPERACION          2025-06-02\n",
       "1     SEJC  COMERCIALIZACIÓN  OPERACION          2025-06-02\n",
       "2     OTAG        GENERACIÓN  OPERACION          2025-06-02\n",
       "3     DUCG        GENERACIÓN  OPERACION          2025-06-02\n",
       "4     ITLC  COMERCIALIZACIÓN  OPERACION          2025-06-02"
      ]
     },
     "execution_count": 21,
     "metadata": {},
     "output_type": "execute_result"
    }
   ],
   "source": [
    "#Descargar los datos\n",
    "df_Agentes = objetoAPI.request_data(\n",
    "                        \"ListadoAgentes\",           #Se indica el nombre de la métrica tal como se llama en el campo metricId\n",
    "                        \"Sistema\",               #Se indica el nombre de la entidad tal como se llama en el campo Entity\n",
    "                        month_ago,     #Corresponde a la fecha inicial de la consulta\n",
    "                        today)\n",
    "\n",
    "\n",
    "df_Agentes.rename(columns={'Values_Code': 'pkAgente',\n",
    "                           'Id':'IdAgentes',\n",
    "                          'Values_Activity':'Actividad',\n",
    "                          'Values_State':'Estado'}, inplace=True)\n",
    "df_Agentes=df_Agentes[['pkAgente','Actividad','Estado']]\n",
    "df_Agentes.head()\n",
    "\n",
    "\n",
    "df_Agentes[\"fecha_actualizacion\"] = today\n",
    "df_Agentes.head()"
   ]
  },
  {
   "cell_type": "code",
   "execution_count": 22,
   "id": "d92a74e9-f01d-4d2c-968b-5eb48e90583e",
   "metadata": {},
   "outputs": [
    {
     "name": "stdout",
     "output_type": "stream",
     "text": [
      "Datos insertados correctamente.\n"
     ]
    }
   ],
   "source": [
    "# Insertar datos en PostgreSQL (modo 'append' para no borrar datos existentes)\n",
    "with engine.begin() as conn:  # <- Se hace COMMIT automático al final\n",
    "    df_Agentes.to_sql(\n",
    "    name='agentes',          # Nombre de la tabla (sin esquema aquí)\n",
    "    con=engine,\n",
    "    schema='tablasxm_dev',       # Esquema especificado aquí\n",
    "    if_exists='replace',          # Opción: 'append', 'replace' o 'fail'\n",
    "    index=True,                 # Incluir el índice del DataFrame\n",
    "    dtype={\n",
    "         'pkagente': String(),           # INT4 en PostgreSQL\n",
    "        'Actividad': String(),                  # DATE\n",
    "        'Estado': String(),               # INT4\n",
    "        'fecha_actualizacion': Date()\n",
    "    })\n",
    "\n",
    "print(\"Datos insertados correctamente.\")"
   ]
  },
  {
   "cell_type": "code",
   "execution_count": 23,
   "id": "a81f0017-94de-46d4-8d8d-567a7e06a685",
   "metadata": {
    "scrolled": true
   },
   "outputs": [
    {
     "name": "stdout",
     "output_type": "stream",
     "text": [
      "650\n"
     ]
    }
   ],
   "source": [
    "print(len(df_Agentes))"
   ]
  },
  {
   "cell_type": "markdown",
   "id": "18a9764f-3a6a-4a6a-b5d4-cd9cdbe42315",
   "metadata": {},
   "source": [
    "**RECURSOS**"
   ]
  },
  {
   "cell_type": "code",
   "execution_count": 24,
   "id": "42ffe403-ad33-4bdc-adfb-aa552f7a7cab",
   "metadata": {},
   "outputs": [
    {
     "data": {
      "text/html": [
       "<div>\n",
       "<style scoped>\n",
       "    .dataframe tbody tr th:only-of-type {\n",
       "        vertical-align: middle;\n",
       "    }\n",
       "\n",
       "    .dataframe tbody tr th {\n",
       "        vertical-align: top;\n",
       "    }\n",
       "\n",
       "    .dataframe thead th {\n",
       "        text-align: right;\n",
       "    }\n",
       "</style>\n",
       "<table border=\"1\" class=\"dataframe\">\n",
       "  <thead>\n",
       "    <tr style=\"text-align: right;\">\n",
       "      <th></th>\n",
       "      <th>pkRecurso</th>\n",
       "      <th>pkAgente</th>\n",
       "      <th>NombreRecurso</th>\n",
       "      <th>Tipo_Recurso</th>\n",
       "      <th>fecha_actualizacion</th>\n",
       "    </tr>\n",
       "  </thead>\n",
       "  <tbody>\n",
       "    <tr>\n",
       "      <th>0</th>\n",
       "      <td>2QBW</td>\n",
       "      <td>ISGG</td>\n",
       "      <td>EL POPAL</td>\n",
       "      <td>HIDRAULICA</td>\n",
       "      <td>2025-06-02</td>\n",
       "    </tr>\n",
       "    <tr>\n",
       "      <th>1</th>\n",
       "      <td>2QEK</td>\n",
       "      <td>ENDG</td>\n",
       "      <td>SALTO II</td>\n",
       "      <td>HIDRAULICA</td>\n",
       "      <td>2025-06-02</td>\n",
       "    </tr>\n",
       "    <tr>\n",
       "      <th>2</th>\n",
       "      <td>2QRL</td>\n",
       "      <td>HZEG</td>\n",
       "      <td>LA REBUSCA</td>\n",
       "      <td>HIDRAULICA</td>\n",
       "      <td>2025-06-02</td>\n",
       "    </tr>\n",
       "    <tr>\n",
       "      <th>3</th>\n",
       "      <td>2QV2</td>\n",
       "      <td>EPSG</td>\n",
       "      <td>BAJO TULUA</td>\n",
       "      <td>HIDRAULICA</td>\n",
       "      <td>2025-06-02</td>\n",
       "    </tr>\n",
       "    <tr>\n",
       "      <th>4</th>\n",
       "      <td>2R22</td>\n",
       "      <td>ENDG</td>\n",
       "      <td>LAGUNETA</td>\n",
       "      <td>HIDRAULICA</td>\n",
       "      <td>2025-06-02</td>\n",
       "    </tr>\n",
       "  </tbody>\n",
       "</table>\n",
       "</div>"
      ],
      "text/plain": [
       "  pkRecurso pkAgente NombreRecurso Tipo_Recurso fecha_actualizacion\n",
       "0      2QBW     ISGG      EL POPAL   HIDRAULICA          2025-06-02\n",
       "1      2QEK     ENDG      SALTO II   HIDRAULICA          2025-06-02\n",
       "2      2QRL     HZEG    LA REBUSCA   HIDRAULICA          2025-06-02\n",
       "3      2QV2     EPSG    BAJO TULUA   HIDRAULICA          2025-06-02\n",
       "4      2R22     ENDG      LAGUNETA   HIDRAULICA          2025-06-02"
      ]
     },
     "execution_count": 24,
     "metadata": {},
     "output_type": "execute_result"
    }
   ],
   "source": [
    "df_Recursos = objetoAPI.request_data(\n",
    "                        \"ListadoRecursos\",           #Se indica el nombre de la métrica tal como se llama en el campo metricId\n",
    "                        \"Sistema\",               #Se indica el nombre de la entidad tal como se llama en el campo Entity\n",
    "                        month_ago,     #Corresponde a la fecha inicial de la consulta\n",
    "                        today)\n",
    "\n",
    "df_Recursos.rename(columns={\n",
    "    'Values_CompanyCode': 'pkAgente',\n",
    "    'Values_Code':'pkRecurso',\n",
    "    'Id':'IdListadoRecursos',\n",
    "    'Values_Name':'NombreRecurso',\n",
    "    'Values_Type':'Tipo_Recurso'}, inplace=True)\n",
    "df_Recursos=df_Recursos[['pkRecurso','pkAgente','NombreRecurso','Tipo_Recurso']]\n",
    "df_Recursos[\"fecha_actualizacion\"] = today\n",
    "df_Recursos.head()"
   ]
  },
  {
   "cell_type": "code",
   "execution_count": 25,
   "id": "543cdc79-7664-4bfd-9bd9-8f0b848207be",
   "metadata": {},
   "outputs": [
    {
     "name": "stdout",
     "output_type": "stream",
     "text": [
      "Datos insertados correctamente.\n"
     ]
    }
   ],
   "source": [
    "# Insertar datos en PostgreSQL (modo 'append' para no borrar datos existentes)\n",
    "with engine.begin() as conn:  # <- Se hace COMMIT automático al final\n",
    "    df_Recursos.to_sql(\n",
    "    name='recursos',          # Nombre de la tabla (sin esquema aquí)\n",
    "    con=engine,\n",
    "    schema='tablasxm_dev',       # Esquema especificado aquí\n",
    "    if_exists='replace',          # Opción: 'append', 'replace' o 'fail'\n",
    "    index=True,                 # Incluir el índice del DataFrame\n",
    "    dtype={\n",
    "          'pkrecurso': String(),      # TEXT en PostgreSQL (equivale a String de SQLAlchemy)\n",
    "        'pkagente': String(),           # INT4 en PostgreSQL\n",
    "        'nombre_recurso': Date(),                  # DATE\n",
    "        'tipo_recurso': Integer(),               # INT4\n",
    "        'fecha_actualizacion': Date()\n",
    "    })\n",
    "\n",
    "\n",
    "\n",
    "print(\"Datos insertados correctamente.\")"
   ]
  },
  {
   "cell_type": "code",
   "execution_count": 27,
   "id": "09197959-68a3-4c56-82b0-fa5aed12cfd7",
   "metadata": {},
   "outputs": [
    {
     "name": "stdout",
     "output_type": "stream",
     "text": [
      "1013\n"
     ]
    }
   ],
   "source": [
    "print(len(df_Recursos))"
   ]
  },
  {
   "cell_type": "code",
   "execution_count": null,
   "id": "e397a429-bba5-482a-ae64-610e778a3cc5",
   "metadata": {},
   "outputs": [],
   "source": []
  }
 ],
 "metadata": {
  "kernelspec": {
   "display_name": "Python 3 (ipykernel)",
   "language": "python",
   "name": "python3"
  },
  "language_info": {
   "codemirror_mode": {
    "name": "ipython",
    "version": 3
   },
   "file_extension": ".py",
   "mimetype": "text/x-python",
   "name": "python",
   "nbconvert_exporter": "python",
   "pygments_lexer": "ipython3",
   "version": "3.12.10"
  }
 },
 "nbformat": 4,
 "nbformat_minor": 5
}
