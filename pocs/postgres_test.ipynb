{
 "cells": [
  {
   "cell_type": "code",
   "execution_count": 3,
   "id": "51b06eeb-a59b-4a94-b3a6-3477621b621d",
   "metadata": {
    "scrolled": true
   },
   "outputs": [
    {
     "name": "stdout",
     "output_type": "stream",
     "text": [
      "Collecting pg8000\n",
      "  Downloading pg8000-1.31.2-py3-none-any.whl.metadata (74 kB)\n",
      "Requirement already satisfied: python-dateutil>=2.8.2 in /opt/conda/lib/python3.12/site-packages (from pg8000) (2.9.0.post0)\n",
      "Collecting scramp>=1.4.5 (from pg8000)\n",
      "  Downloading scramp-1.4.5-py3-none-any.whl.metadata (19 kB)\n",
      "Requirement already satisfied: six>=1.5 in /opt/conda/lib/python3.12/site-packages (from python-dateutil>=2.8.2->pg8000) (1.17.0)\n",
      "Collecting asn1crypto>=1.5.1 (from scramp>=1.4.5->pg8000)\n",
      "  Downloading asn1crypto-1.5.1-py2.py3-none-any.whl.metadata (13 kB)\n",
      "Downloading pg8000-1.31.2-py3-none-any.whl (54 kB)\n",
      "Downloading scramp-1.4.5-py3-none-any.whl (12 kB)\n",
      "Downloading asn1crypto-1.5.1-py2.py3-none-any.whl (105 kB)\n",
      "Installing collected packages: asn1crypto, scramp, pg8000\n",
      "\u001b[2K   \u001b[90m━━━━━━━━━━━━━━━━━━━━━━━━━━━━━━━━━━━━━━━━\u001b[0m \u001b[32m3/3\u001b[0m [pg8000]\n",
      "\u001b[1A\u001b[2KSuccessfully installed asn1crypto-1.5.1 pg8000-1.31.2 scramp-1.4.5\n"
     ]
    }
   ],
   "source": [
    "!pip install pg8000"
   ]
  },
  {
   "cell_type": "code",
   "execution_count": 7,
   "id": "2c4b8918-4400-498e-a29f-3c11fde48708",
   "metadata": {},
   "outputs": [],
   "source": [
    "import pg8000\n",
    "import os"
   ]
  },
  {
   "cell_type": "code",
   "execution_count": 12,
   "id": "bbe19920-0b2c-4d86-b2ad-92ed8dbb9dfa",
   "metadata": {},
   "outputs": [],
   "source": [
    "host = os.environ.get(\"POSTGRES_HOST\")\n",
    "port = int(os.environ.get(\"POSTGRES_PORT\"))\n",
    "database = os.environ.get(\"POSTGRES_DB\")\n",
    "user = os.environ.get(\"POSTGRES_USER\")\n",
    "password = os.environ.get(\"POSTGRES_PASSWORD\")\n",
    "\n"
   ]
  },
  {
   "cell_type": "code",
   "execution_count": 14,
   "id": "2cb323ed-0bab-4686-a6a7-c53b0d42b4a4",
   "metadata": {},
   "outputs": [
    {
     "name": "stdout",
     "output_type": "stream",
     "text": [
      "PostgreSQL versión → PostgreSQL 17.5 (Debian 17.5-1.pgdg120+1) on x86_64-pc-linux-gnu, compiled by gcc (Debian 12.2.0-14) 12.2.0, 64-bit\n",
      "✅ Conexión y consulta exitosa.\n"
     ]
    }
   ],
   "source": [
    "try:\n",
    "    conn = pg8000.connect(\n",
    "        host=host,\n",
    "        port=port,\n",
    "        user=user,\n",
    "        password=password,\n",
    "        database=database,\n",
    "        timeout=5\n",
    "    )\n",
    "    cursor = conn.cursor()\n",
    "    cursor.execute(\"SELECT version();\")\n",
    "    print(\"PostgreSQL versión →\", cursor.fetchone()[0])\n",
    "    cursor.close()\n",
    "    conn.close()\n",
    "    print(\"✅ Conexión y consulta exitosa.\")\n",
    "except Exception as e:\n",
    "    print(\"❌ Error conectando o autenticando:\", e)"
   ]
  },
  {
   "cell_type": "code",
   "execution_count": null,
   "id": "970b8253-5664-4544-8cf1-efaf610ada9e",
   "metadata": {},
   "outputs": [],
   "source": []
  }
 ],
 "metadata": {
  "kernelspec": {
   "display_name": "Python 3 (ipykernel)",
   "language": "python",
   "name": "python3"
  },
  "language_info": {
   "codemirror_mode": {
    "name": "ipython",
    "version": 3
   },
   "file_extension": ".py",
   "mimetype": "text/x-python",
   "name": "python",
   "nbconvert_exporter": "python",
   "pygments_lexer": "ipython3",
   "version": "3.12.10"
  }
 },
 "nbformat": 4,
 "nbformat_minor": 5
}
