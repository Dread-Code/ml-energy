{
 "cells": [
  {
   "cell_type": "code",
   "execution_count": 30,
   "id": "de600f43-2704-474a-b020-3c62c41cfe5f",
   "metadata": {},
   "outputs": [],
   "source": [
    "import pandas as pd\n",
    "from pydataxm import *\n",
    "import datetime as dt\n",
    "from sqlalchemy import create_engine\n",
    "from sqlalchemy.types import String, Integer, Date, Float  # Importar tipos necesarios\n",
    "import  os\n",
    "import psycopg2"
   ]
  },
  {
   "cell_type": "code",
   "execution_count": 15,
   "id": "8dc44915-f2ee-4f53-89e4-7312e1b73faf",
   "metadata": {},
   "outputs": [],
   "source": [
    "host = os.environ.get(\"POSTGRES_HOST\")\n",
    "port = int(os.environ.get(\"POSTGRES_PORT\"))\n",
    "database = os.environ.get(\"POSTGRES_DB\")\n",
    "user = os.environ.get(\"POSTGRES_USER\")\n",
    "password = os.environ.get(\"POSTGRES_PASSWORD\")\n",
    "\n",
    "# Crear el engine de SQLAlchemy\n",
    "engine = create_engine(f'postgresql+psycopg2://{user}:{password}@{host}:{port}/{database}')"
   ]
  },
  {
   "cell_type": "code",
   "execution_count": 16,
   "id": "01e6006d-33ac-453b-b932-96cb35b068cc",
   "metadata": {},
   "outputs": [],
   "source": [
    "#Definir periodo de los datos\n",
    "today = dt.date.today()\n",
    "month_ago = today - dt.timedelta(days=360) # Approximation of a month"
   ]
  },
  {
   "cell_type": "code",
   "execution_count": 17,
   "id": "bcdde073-b614-4650-9bdd-fcc69f86a265",
   "metadata": {},
   "outputs": [],
   "source": [
    "#Conexion a la API\n",
    "objetoAPI = pydataxm.ReadDB()"
   ]
  },
  {
   "cell_type": "code",
   "execution_count": 41,
   "id": "7975ffcc-5e3f-429f-9544-49de8d78adfd",
   "metadata": {},
   "outputs": [],
   "source": [
    "#Descargar los datos\n",
    "df_DemandaReal = objetoAPI.request_data(\n",
    "                        \"DemaReal\",           #Se indica el nombre de la métrica tal como se llama en el campo metricId\n",
    "                        \"Agente\",\n",
    "                        month_ago,#Se indica el nombre de la entidad tal como se llama en el campo Entity\n",
    "                        today     #Corresponde a la fecha inicial de la consulta\n",
    "                        )\n",
    "\n",
    "#Renombrar\n",
    "df_DemandaReal.rename(columns={'Values_code': 'pkAgente',\n",
    "                               'Id':'IdDemandaReal',\n",
    "                              }, inplace=True)\n",
    "\n",
    "value_hour_cols = [col for col in df_DemandaReal.columns if col.startswith('Values_Hour')]\n",
    "\n",
    "df_DemandaReal = pd.melt(df_DemandaReal,\n",
    "                   id_vars=[col for col in df_DemandaReal.columns if not col.startswith('Values_Hour')],\n",
    "                   value_vars=value_hour_cols,\n",
    "                   var_name='hora',\n",
    "                   value_name='demanda_real')\n",
    "\n",
    "# Clean up the 'hora' column to extract just the hour number\n",
    "df_DemandaReal['hora'] = df_DemandaReal['hora'].str.replace('Values_Hour', '').astype(int)\n",
    "\n",
    "\n",
    "df_DemandaReal[\"Date\"] = pd.to_datetime(df_DemandaReal[\"Date\"]).dt.date  # Convertir a date (sin hora)\n",
    "df_DemandaReal[\"fecha_actualizacion\"] = today\n"
   ]
  },
  {
   "cell_type": "code",
   "execution_count": 42,
   "id": "d92a74e9-f01d-4d2c-968b-5eb48e90583e",
   "metadata": {},
   "outputs": [
    {
     "data": {
      "text/html": [
       "<div>\n",
       "<style scoped>\n",
       "    .dataframe tbody tr th:only-of-type {\n",
       "        vertical-align: middle;\n",
       "    }\n",
       "\n",
       "    .dataframe tbody tr th {\n",
       "        vertical-align: top;\n",
       "    }\n",
       "\n",
       "    .dataframe thead th {\n",
       "        text-align: right;\n",
       "    }\n",
       "</style>\n",
       "<table border=\"1\" class=\"dataframe\">\n",
       "  <thead>\n",
       "    <tr style=\"text-align: right;\">\n",
       "      <th></th>\n",
       "      <th>IdDemandaReal</th>\n",
       "      <th>pkAgente</th>\n",
       "      <th>Date</th>\n",
       "      <th>hora</th>\n",
       "      <th>demanda_real</th>\n",
       "      <th>fecha_actualizacion</th>\n",
       "    </tr>\n",
       "  </thead>\n",
       "  <tbody>\n",
       "    <tr>\n",
       "      <th>0</th>\n",
       "      <td>Agente</td>\n",
       "      <td>AAGG</td>\n",
       "      <td>2024-06-06</td>\n",
       "      <td>1</td>\n",
       "      <td>122.17</td>\n",
       "      <td>2025-06-01</td>\n",
       "    </tr>\n",
       "    <tr>\n",
       "      <th>1</th>\n",
       "      <td>Agente</td>\n",
       "      <td>ADCG</td>\n",
       "      <td>2024-06-06</td>\n",
       "      <td>1</td>\n",
       "      <td>NaN</td>\n",
       "      <td>2025-06-01</td>\n",
       "    </tr>\n",
       "    <tr>\n",
       "      <th>2</th>\n",
       "      <td>Agente</td>\n",
       "      <td>ASCC</td>\n",
       "      <td>2024-06-06</td>\n",
       "      <td>1</td>\n",
       "      <td>2865.57</td>\n",
       "      <td>2025-06-01</td>\n",
       "    </tr>\n",
       "    <tr>\n",
       "      <th>3</th>\n",
       "      <td>Agente</td>\n",
       "      <td>BCCG</td>\n",
       "      <td>2024-06-06</td>\n",
       "      <td>1</td>\n",
       "      <td>17.00</td>\n",
       "      <td>2025-06-01</td>\n",
       "    </tr>\n",
       "    <tr>\n",
       "      <th>4</th>\n",
       "      <td>Agente</td>\n",
       "      <td>BIAC</td>\n",
       "      <td>2024-06-06</td>\n",
       "      <td>1</td>\n",
       "      <td>27431.95</td>\n",
       "      <td>2025-06-01</td>\n",
       "    </tr>\n",
       "  </tbody>\n",
       "</table>\n",
       "</div>"
      ],
      "text/plain": [
       "  IdDemandaReal pkAgente        Date  hora  demanda_real fecha_actualizacion\n",
       "0        Agente     AAGG  2024-06-06     1        122.17          2025-06-01\n",
       "1        Agente     ADCG  2024-06-06     1           NaN          2025-06-01\n",
       "2        Agente     ASCC  2024-06-06     1       2865.57          2025-06-01\n",
       "3        Agente     BCCG  2024-06-06     1         17.00          2025-06-01\n",
       "4        Agente     BIAC  2024-06-06     1      27431.95          2025-06-01"
      ]
     },
     "execution_count": 42,
     "metadata": {},
     "output_type": "execute_result"
    }
   ],
   "source": [
    "df_DemandaReal.head()"
   ]
  },
  {
   "cell_type": "code",
   "execution_count": 44,
   "id": "a81f0017-94de-46d4-8d8d-567a7e06a685",
   "metadata": {
    "scrolled": true
   },
   "outputs": [
    {
     "name": "stdout",
     "output_type": "stream",
     "text": [
      "Datos insertados correctamente.\n"
     ]
    }
   ],
   "source": [
    "# Insertar datos en PostgreSQL (modo 'append' para no borrar datos existentes)\n",
    "with engine.begin() as conn:  # <- Se hace COMMIT automático al final\n",
    "    df_DemandaReal.to_sql(\n",
    "    name='demanda_real',          # Nombre de la tabla (sin esquema aquí)\n",
    "    con=engine,\n",
    "    schema='tablasxm_dev',       # Esquema especificado aquí\n",
    "    if_exists='replace',          # Opción: 'append', 'replace' o 'fail'\n",
    "    index=True,                 # Incluir el índice del DataFrame\n",
    "    dtype={\n",
    "          'iddemandaReal': String(),      # TEXT en PostgreSQL (equivale a String de SQLAlchemy)\n",
    "        'pkagente': String(),           # INT4 en PostgreSQL\n",
    "        'date': Date(),                  # DATE\n",
    "        'hora': Integer(),               # INT4\n",
    "        'demanda_real': Float() ,         # FLOAT4 en PostgreSQL\n",
    "        'fecha_actualizacion': Date()\n",
    "    })\n",
    "\n",
    "\n",
    "\n",
    "\n",
    "print(\"Datos insertados correctamente.\")"
   ]
  },
  {
   "cell_type": "code",
   "execution_count": 45,
   "id": "efc5888f-148d-4b50-90f5-321df55d881c",
   "metadata": {},
   "outputs": [
    {
     "name": "stdout",
     "output_type": "stream",
     "text": [
      "1055928\n"
     ]
    }
   ],
   "source": [
    "print(len(df_DemandaReal))"
   ]
  },
  {
   "cell_type": "code",
   "execution_count": null,
   "id": "42ffe403-ad33-4bdc-adfb-aa552f7a7cab",
   "metadata": {},
   "outputs": [],
   "source": []
  }
 ],
 "metadata": {
  "kernelspec": {
   "display_name": "Python 3 (ipykernel)",
   "language": "python",
   "name": "python3"
  },
  "language_info": {
   "codemirror_mode": {
    "name": "ipython",
    "version": 3
   },
   "file_extension": ".py",
   "mimetype": "text/x-python",
   "name": "python",
   "nbconvert_exporter": "python",
   "pygments_lexer": "ipython3",
   "version": "3.12.10"
  }
 },
 "nbformat": 4,
 "nbformat_minor": 5
}
