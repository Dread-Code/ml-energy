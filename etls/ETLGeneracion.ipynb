{
 "cells": [
  {
   "cell_type": "code",
   "execution_count": 1,
   "id": "de600f43-2704-474a-b020-3c62c41cfe5f",
   "metadata": {},
   "outputs": [],
   "source": [
    "import pandas as pd\n",
    "from pydataxm import *\n",
    "import datetime as dt\n",
    "from sqlalchemy import create_engine\n",
    "from sqlalchemy.types import String, Integer, Date, Float  # Importar tipos necesarios\n",
    "import  os\n",
    "import psycopg2"
   ]
  },
  {
   "cell_type": "code",
   "execution_count": 2,
   "id": "8dc44915-f2ee-4f53-89e4-7312e1b73faf",
   "metadata": {},
   "outputs": [],
   "source": [
    "host = os.environ.get(\"POSTGRES_HOST\")\n",
    "port = int(os.environ.get(\"POSTGRES_PORT\"))\n",
    "database = os.environ.get(\"POSTGRES_DB\")\n",
    "user = os.environ.get(\"POSTGRES_USER\")\n",
    "password = os.environ.get(\"POSTGRES_PASSWORD\")\n",
    "\n",
    "# Crear el engine de SQLAlchemy\n",
    "engine = create_engine(f'postgresql+psycopg2://{user}:{password}@{host}:{port}/{database}')"
   ]
  },
  {
   "cell_type": "code",
   "execution_count": 3,
   "id": "01e6006d-33ac-453b-b932-96cb35b068cc",
   "metadata": {},
   "outputs": [],
   "source": [
    "#Definir periodo de los datos\n",
    "today = dt.date.today()\n",
    "month_ago = today - dt.timedelta(days=360) # Approximation of a month"
   ]
  },
  {
   "cell_type": "code",
   "execution_count": 4,
   "id": "bcdde073-b614-4650-9bdd-fcc69f86a265",
   "metadata": {},
   "outputs": [],
   "source": [
    "#Conexion a la API\n",
    "objetoAPI = pydataxm.ReadDB()"
   ]
  },
  {
   "cell_type": "markdown",
   "id": "fdb27b87-8e23-45fe-8010-105900e8d7f2",
   "metadata": {},
   "source": [
    "**GENERACIÓN**"
   ]
  },
  {
   "cell_type": "code",
   "execution_count": 5,
   "id": "e4dc6a2b-8e27-49f7-8034-fe4dcb974f3c",
   "metadata": {},
   "outputs": [
    {
     "data": {
      "text/html": [
       "<div>\n",
       "<style scoped>\n",
       "    .dataframe tbody tr th:only-of-type {\n",
       "        vertical-align: middle;\n",
       "    }\n",
       "\n",
       "    .dataframe tbody tr th {\n",
       "        vertical-align: top;\n",
       "    }\n",
       "\n",
       "    .dataframe thead th {\n",
       "        text-align: right;\n",
       "    }\n",
       "</style>\n",
       "<table border=\"1\" class=\"dataframe\">\n",
       "  <thead>\n",
       "    <tr style=\"text-align: right;\">\n",
       "      <th></th>\n",
       "      <th>pkRecurso</th>\n",
       "      <th>Date</th>\n",
       "      <th>hora</th>\n",
       "      <th>generacion</th>\n",
       "      <th>fecha_actualizacion</th>\n",
       "    </tr>\n",
       "  </thead>\n",
       "  <tbody>\n",
       "    <tr>\n",
       "      <th>0</th>\n",
       "      <td>2QBW</td>\n",
       "      <td>2024-06-07</td>\n",
       "      <td>1</td>\n",
       "      <td>16081.86</td>\n",
       "      <td>2025-06-02</td>\n",
       "    </tr>\n",
       "    <tr>\n",
       "      <th>1</th>\n",
       "      <td>2QEK</td>\n",
       "      <td>2024-06-07</td>\n",
       "      <td>1</td>\n",
       "      <td>35208.86</td>\n",
       "      <td>2025-06-02</td>\n",
       "    </tr>\n",
       "    <tr>\n",
       "      <th>2</th>\n",
       "      <td>2QRL</td>\n",
       "      <td>2024-06-07</td>\n",
       "      <td>1</td>\n",
       "      <td>640.68</td>\n",
       "      <td>2025-06-02</td>\n",
       "    </tr>\n",
       "    <tr>\n",
       "      <th>3</th>\n",
       "      <td>2QV2</td>\n",
       "      <td>2024-06-07</td>\n",
       "      <td>1</td>\n",
       "      <td>18752.40</td>\n",
       "      <td>2025-06-02</td>\n",
       "    </tr>\n",
       "    <tr>\n",
       "      <th>4</th>\n",
       "      <td>2R22</td>\n",
       "      <td>2024-06-07</td>\n",
       "      <td>1</td>\n",
       "      <td>17928.87</td>\n",
       "      <td>2025-06-02</td>\n",
       "    </tr>\n",
       "  </tbody>\n",
       "</table>\n",
       "</div>"
      ],
      "text/plain": [
       "  pkRecurso       Date  hora  generacion fecha_actualizacion\n",
       "0      2QBW 2024-06-07     1    16081.86          2025-06-02\n",
       "1      2QEK 2024-06-07     1    35208.86          2025-06-02\n",
       "2      2QRL 2024-06-07     1      640.68          2025-06-02\n",
       "3      2QV2 2024-06-07     1    18752.40          2025-06-02\n",
       "4      2R22 2024-06-07     1    17928.87          2025-06-02"
      ]
     },
     "execution_count": 5,
     "metadata": {},
     "output_type": "execute_result"
    }
   ],
   "source": [
    "df_Generacion = objetoAPI.request_data(\n",
    "                        \"Gene\",           #Se indica el nombre de la métrica tal como se llama en el campo metricId\n",
    "                        \"Recurso\",               #Se indica el nombre de la entidad tal como se llama en el campo Entity\n",
    "                        month_ago,     #Corresponde a la fecha inicial de la consulta\n",
    "                        today)\n",
    "\n",
    "\n",
    "df_Generacion.rename(columns={'Values_code': 'pkRecurso'}, inplace=True)\n",
    "\n",
    "\n",
    "# Assume df_filtered is already defined from the preceding code\n",
    "\n",
    "# Identify columns to pivot\n",
    "value_hour_cols = [col for col in df_Generacion.columns if col.startswith('Values_Hour')]\n",
    "\n",
    "# Melt the DataFrame\n",
    "df_Generacion = pd.melt(df_Generacion,\n",
    "                   id_vars=[col for col in df_Generacion.columns if not col.startswith('Values_Hour')],\n",
    "                   value_vars=value_hour_cols,\n",
    "                   var_name='hora',\n",
    "                   value_name='generacion')\n",
    "\n",
    "# Clean up the 'hora' column to extract just the hour number\n",
    "df_Generacion['hora'] = df_Generacion['hora'].str.replace('Values_Hour', '').astype(int)\n",
    "\n",
    "df_Generacion[\"fecha_actualizacion\"] = today\n",
    "\n",
    "df_Generacion=df_Generacion[['pkRecurso','Date','hora','generacion','fecha_actualizacion']]\n",
    "# Display the pivoted DataFrame\n",
    "df_Generacion.head()\n"
   ]
  },
  {
   "cell_type": "code",
   "execution_count": 7,
   "id": "5d5ac2a3-3c80-496a-9551-10319e69091c",
   "metadata": {},
   "outputs": [
    {
     "name": "stdout",
     "output_type": "stream",
     "text": [
      "Datos insertados correctamente.\n"
     ]
    }
   ],
   "source": [
    "# Insertar datos en PostgreSQL (modo 'append' para no borrar datos existentes)\n",
    "with engine.begin() as conn:  # <- Se hace COMMIT automático al final\n",
    "    df_Generacion.to_sql(\n",
    "    name='generacion',          # Nombre de la tabla (sin esquema aquí)\n",
    "    con=engine,\n",
    "    schema='tablasxm_dev',       # Esquema especificado aquí\n",
    "    if_exists='replace',          # Opción: 'append', 'replace' o 'fail'\n",
    "    index=True,                 # Incluir el índice del DataFrame\n",
    "    dtype={\n",
    "           'pkrecurso': String(),     \n",
    "           'date': Date(),\n",
    "           'hora': Integer(),\n",
    "           'generacion': Float(),              \n",
    "           'fecha_actualizacion': Date()\n",
    "    })\n",
    "\n",
    "\n",
    "\n",
    "print(\"Datos insertados correctamente.\")"
   ]
  },
  {
   "cell_type": "code",
   "execution_count": 8,
   "id": "ca1a11cd-3aa0-4ac7-8279-17f42a9d15ab",
   "metadata": {},
   "outputs": [
    {
     "name": "stdout",
     "output_type": "stream",
     "text": [
      "2565504\n"
     ]
    }
   ],
   "source": [
    "print(len(df_Generacion))"
   ]
  },
  {
   "cell_type": "code",
   "execution_count": null,
   "id": "8334b521-bd8b-4a88-97a6-d254ba2ca9ef",
   "metadata": {},
   "outputs": [],
   "source": []
  }
 ],
 "metadata": {
  "kernelspec": {
   "display_name": "Python 3 (ipykernel)",
   "language": "python",
   "name": "python3"
  },
  "language_info": {
   "codemirror_mode": {
    "name": "ipython",
    "version": 3
   },
   "file_extension": ".py",
   "mimetype": "text/x-python",
   "name": "python",
   "nbconvert_exporter": "python",
   "pygments_lexer": "ipython3",
   "version": "3.12.10"
  }
 },
 "nbformat": 4,
 "nbformat_minor": 5
}
