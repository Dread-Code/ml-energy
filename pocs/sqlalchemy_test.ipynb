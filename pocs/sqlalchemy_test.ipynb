{
 "cells": [
  {
   "cell_type": "code",
   "execution_count": 2,
   "id": "22ed7442-5da9-453a-b020-eec3e818c4bf",
   "metadata": {},
   "outputs": [
    {
     "name": "stdout",
     "output_type": "stream",
     "text": [
      "Requirement already satisfied: psycopg2-binary in /opt/conda/lib/python3.12/site-packages (2.9.10)\n",
      "Requirement already satisfied: alembic in /opt/conda/lib/python3.12/site-packages (1.16.1)\n",
      "Requirement already satisfied: sqlalchemy in /opt/conda/lib/python3.12/site-packages (2.0.41)\n",
      "Requirement already satisfied: Mako in /opt/conda/lib/python3.12/site-packages (from alembic) (1.3.10)\n",
      "Requirement already satisfied: typing-extensions>=4.12 in /opt/conda/lib/python3.12/site-packages (from alembic) (4.13.2)\n",
      "Requirement already satisfied: greenlet>=1 in /opt/conda/lib/python3.12/site-packages (from sqlalchemy) (3.2.2)\n",
      "Requirement already satisfied: MarkupSafe>=0.9.2 in /opt/conda/lib/python3.12/site-packages (from Mako->alembic) (3.0.2)\n"
     ]
    }
   ],
   "source": [
    "!pip install psycopg2-binary alembic sqlalchemy"
   ]
  },
  {
   "cell_type": "code",
   "execution_count": 11,
   "id": "d1db5fb5-f31f-474e-8c34-84c57e7092d9",
   "metadata": {},
   "outputs": [],
   "source": [
    "from sqlalchemy import create_engine, text\n",
    "import os"
   ]
  },
  {
   "cell_type": "code",
   "execution_count": 8,
   "id": "b98833d1-2632-4215-b1c2-1dbeea3992cc",
   "metadata": {},
   "outputs": [],
   "source": [
    "host = os.environ.get(\"POSTGRES_HOST\")\n",
    "port = int(os.environ.get(\"POSTGRES_PORT\"))\n",
    "database = os.environ.get(\"POSTGRES_DB\")\n",
    "user = os.environ.get(\"POSTGRES_USER\")\n",
    "password = os.environ.get(\"POSTGRES_PASSWORD\")"
   ]
  },
  {
   "cell_type": "code",
   "execution_count": 13,
   "id": "521e4bf8-fee8-4863-bfa0-e641a26d797f",
   "metadata": {},
   "outputs": [
    {
     "name": "stdout",
     "output_type": "stream",
     "text": [
      "postgresql://postgres:5~;X*hLkvdf>xa*T@postgres:5432/postgres\n"
     ]
    }
   ],
   "source": [
    "DATABASE_URL = f\"postgresql://{user}:{password}@{host}:{port}/{database}\"\n",
    "\n",
    "print(DATABASE_URL)\n",
    "engine = create_engine(DATABASE_URL)\n"
   ]
  },
  {
   "cell_type": "code",
   "execution_count": null,
   "id": "67956201-9c26-4fc3-8734-46dcc252005c",
   "metadata": {},
   "outputs": [],
   "source": [
    "with engine.connect() as conn:\n",
    "    print(\"Connected:\", conn.execute(text(\"SELECT 1\")).scalar())"
   ]
  }
 ],
 "metadata": {
  "kernelspec": {
   "display_name": "Python 3 (ipykernel)",
   "language": "python",
   "name": "python3"
  },
  "language_info": {
   "codemirror_mode": {
    "name": "ipython",
    "version": 3
   },
   "file_extension": ".py",
   "mimetype": "text/x-python",
   "name": "python",
   "nbconvert_exporter": "python",
   "pygments_lexer": "ipython3",
   "version": "3.12.10"
  }
 },
 "nbformat": 4,
 "nbformat_minor": 5
}
