{
 "cells": [
  {
   "cell_type": "code",
   "execution_count": 6,
   "id": "f457dea9-0393-4fac-975d-3979c23fd602",
   "metadata": {},
   "outputs": [],
   "source": [
    "import xgboost as xgb\n",
    "import numpy as np\n",
    "import time"
   ]
  },
  {
   "cell_type": "code",
   "execution_count": 3,
   "id": "376eab31-7d1e-4757-b168-56f993723879",
   "metadata": {},
   "outputs": [],
   "source": [
    "# Example dummy data\n",
    "X = np.random.rand(1000, 20)      # 1000 samples, 20 features\n",
    "y = np.random.randint(0, 2, 1000) # Binary target (0 or 1)\n",
    "\n",
    "# Create DMatrix\n",
    "dtrain = xgb.DMatrix(data=X, label=y)"
   ]
  },
  {
   "cell_type": "code",
   "execution_count": 7,
   "id": "991fc395-324c-4959-8c29-e6c992e4ae1f",
   "metadata": {},
   "outputs": [
    {
     "name": "stdout",
     "output_type": "stream",
     "text": [
      "GPU time: 0.26 seconds\n"
     ]
    }
   ],
   "source": [
    "# GPU\n",
    "params_gpu = dict()\n",
    "params_gpu[\"device\"] = \"cuda\"\n",
    "params_gpu[\"tree_method\"] = \"hist\"\n",
    "start_gpu = time.time()\n",
    "\n",
    "xgb.train(params_gpu, dtrain, num_boost_round=100)\n",
    "\n",
    "print(f\"GPU time: {time.time() - start_gpu:.2f} seconds\")"
   ]
  },
  {
   "cell_type": "code",
   "execution_count": null,
   "id": "b16b12a7-3d7b-498b-9c91-6b5566ad803f",
   "metadata": {},
   "outputs": [],
   "source": []
  }
 ],
 "metadata": {
  "kernelspec": {
   "display_name": "Python 3 (ipykernel)",
   "language": "python",
   "name": "python3"
  },
  "language_info": {
   "codemirror_mode": {
    "name": "ipython",
    "version": 3
   },
   "file_extension": ".py",
   "mimetype": "text/x-python",
   "name": "python",
   "nbconvert_exporter": "python",
   "pygments_lexer": "ipython3",
   "version": "3.12.10"
  }
 },
 "nbformat": 4,
 "nbformat_minor": 5
}
